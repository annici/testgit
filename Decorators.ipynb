{
 "cells": [
  {
   "cell_type": "markdown",
   "metadata": {},
   "source": [
    "<br/><br/>\n",
    "<center><span style=\"color:dark blue; font-weight: bold; font-size:20pt\">Декораторы с аргументами\n",
    "    </span></center>\n",
    "<br/><br/>"
   ]
  },
  {
   "cell_type": "markdown",
   "metadata": {},
   "source": [
    "#### Пример 1 (простой):\n",
    "внешняя ф-я (в неё передаём функцию для декорирования) и две внутр. ф-ии (передаём туда все аргументы).\n",
    "Внешняя функция вернет только одну внутреннюю (но обязательно вернет!):"
   ]
  },
  {
   "cell_type": "code",
   "execution_count": null,
   "metadata": {},
   "outputs": [],
   "source": [
    "#V1\n",
    "LIST=[]\n",
    "def exernal_decor(function_to_decorate):\n",
    "    #LIST=[]\n",
    "    print('here code implemented  in decorator BEFORE main func')\n",
    "    def internal_decor1(a,b):\n",
    "        function_to_decorate(a,b)\n",
    "        print('decor1 implemented!')       \n",
    "        return function_to_decorate(a,b)\n",
    "    \n",
    "    LIST.append(decor2)\n",
    "    \n",
    "    def internal_decor2(a,b):\n",
    "        function_to_decorate(a,b)\n",
    "        print('decor2 implemented!')  \n",
    "        #INTERNAL decorator output CAN be ANY type\n",
    "        return 8 \n",
    "    \n",
    "    LIST.append(decor3)\n",
    "    \n",
    "    print('here code implemented  in decorator AFTER main func\\! List:',LIST)\n",
    "    \n",
    "    return internal_decor2 #EXTERNAL decorator output must be \"function\" type"
   ]
  },
  {
   "cell_type": "code",
   "execution_count": 5,
   "metadata": {
    "scrolled": true
   },
   "outputs": [
    {
     "name": "stdout",
     "output_type": "stream",
     "text": [
      "here code implemented  in decorator BEFORE main func\n",
      "here code implemented  in decorator AFTER main func\\! List: [<function decor.<locals>.decor2 at 0x000001E620148B88>, <function decor.<locals>.decor3 at 0x000001E6201480D8>, <function decor.<locals>.decor2 at 0x000001E6201481F8>, <function decor.<locals>.decor3 at 0x000001E620148AF8>]\n",
      "decor3 implemented!\n"
     ]
    },
    {
     "data": {
      "text/plain": [
       "8"
      ]
     },
     "execution_count": 5,
     "metadata": {},
     "output_type": "execute_result"
    }
   ],
   "source": [
    "@exernal_decor\n",
    "def aplusb(a,b):\n",
    "    \n",
    "    return (a+b)\n",
    "\n",
    "aplusb(1,2)"
   ]
  },
  {
   "cell_type": "markdown",
   "metadata": {},
   "source": [
    "#### Пример 2 (более сложный):\n",
    "Одна внешняя ф-я  и одна  внутр. ф-я. Во внутр. функции входная ф-я ***function_to_decorate*** выполняется заданное количество раз:"
   ]
  },
  {
   "cell_type": "code",
   "execution_count": 11,
   "metadata": {},
   "outputs": [],
   "source": [
    "def decor(function_to_decorate):\n",
    "    print('here is code implemented  inside the decorator:')\n",
    "    \n",
    "    ''''''\n",
    "    def decor2(a,z):\n",
    "        print('Результат ИСХОДНОЙ ф-ии:', function_to_decorate(a))\n",
    "        intern_var=[]\n",
    "        for i in range(z):\n",
    "            print(f'Функця выполняется {i+1}-й раз, результат:',function_to_decorate(a)**(i+1))\n",
    "            intern_var.append(function_to_decorate(a)**(i+1))\n",
    "        return 'Вот такой вот получился результат ИЗМЕНЕННОЙ функции: %s '% (type(intern_var))\n",
    "    ''''''\n",
    "    \n",
    "    return decor2"
   ]
  },
  {
   "cell_type": "code",
   "execution_count": 12,
   "metadata": {
    "scrolled": true
   },
   "outputs": [
    {
     "name": "stdout",
     "output_type": "stream",
     "text": [
      "here is code implemented  inside the decorator:\n",
      "Результат ИСХОДНОЙ ф-ии: 6\n",
      "Функця выполняется 1-й раз, результат: 6\n",
      "Функця выполняется 2-й раз, результат: 36\n",
      "Функця выполняется 3-й раз, результат: 216\n",
      "Функця выполняется 4-й раз, результат: 1296\n",
      "Функця выполняется 5-й раз, результат: 7776\n"
     ]
    },
    {
     "data": {
      "text/plain": [
       "\"Вот такой вот получился результат ИЗМЕНЕННОЙ функции: <class 'list'> \""
      ]
     },
     "execution_count": 12,
     "metadata": {},
     "output_type": "execute_result"
    }
   ],
   "source": [
    "@decor\n",
    "def aplusb(b):    \n",
    "    return (b*3)\n",
    "\n",
    "\n",
    "result=aplusb(2,5)\n",
    "result"
   ]
  },
  {
   "cell_type": "code",
   "execution_count": 48,
   "metadata": {},
   "outputs": [
    {
     "data": {
      "text/plain": [
       "'decor2'"
      ]
     },
     "execution_count": 48,
     "metadata": {},
     "output_type": "execute_result"
    }
   ],
   "source": [
    "aplusb.__name__"
   ]
  },
  {
   "cell_type": "markdown",
   "metadata": {},
   "source": [
    "#### Пример 3:"
   ]
  },
  {
   "cell_type": "code",
   "execution_count": null,
   "metadata": {},
   "outputs": [],
   "source": [
    "def a_decorator_passing_arguments(function_to_decorate):\n",
    "    def a_wrapper_accepting_arguments(arg1, arg2):\n",
    "         print(\"Смотри, что я получил:\", arg1, arg2)\n",
    "         function_to_decorate(arg1, arg2)\n",
    "    return a_wrapper_accepting_arguments\n",
    "        \n",
    "@a_decorator_passing_arguments\n",
    "def print_full_name(first_name, last_name):\n",
    "    print(\"Меня зовут\", first_name, last_name)\n",
    "\n",
    "print_full_name(\"Vasya\", \"Pupkin\")"
   ]
  },
  {
   "cell_type": "markdown",
   "metadata": {},
   "source": [
    "--------------------------------------------------------------------------------------"
   ]
  },
  {
   "cell_type": "markdown",
   "metadata": {},
   "source": [
    "<br/><br/>\n",
    "<center><span style=\"color:green; font-weight: bold; font-size:15pt\">Декораторы в классах\n",
    "    </span></center>\n",
    "<br/><br/>"
   ]
  },
  {
   "cell_type": "markdown",
   "metadata": {},
   "source": [
    "**Пример 1:** [вот отсюда](https://python-scripts.com/decorators)"
   ]
  },
  {
   "cell_type": "code",
   "execution_count": 26,
   "metadata": {},
   "outputs": [],
   "source": [
    "#https://python-scripts.com/decorators\n",
    "\n",
    "class Person:\n",
    "    \n",
    "    def __init__(self, fir_nm, la_nm):\n",
    "        \"\"\"Конструктор\"\"\"\n",
    "        self.first_name = fir_nm\n",
    "        self.last_name = la_nm\n",
    "    \n",
    "    @property\n",
    "    def full_name(self):\n",
    "        \"\"\"\n",
    "        Возвращаем полное имя\n",
    "        \"\"\"\n",
    "        return \"%s %s\" % (self.first_name, self.last_name)"
   ]
  },
  {
   "cell_type": "code",
   "execution_count": 29,
   "metadata": {},
   "outputs": [
    {
     "data": {
      "text/plain": [
       "'Jay Wen'"
      ]
     },
     "execution_count": 29,
     "metadata": {},
     "output_type": "execute_result"
    }
   ],
   "source": [
    "man=Person('Jay','Lo')\n",
    "man.first_name\n",
    "man.last_name = \"Wen\" #можно поменять!\n",
    "man.full_name"
   ]
  },
  {
   "cell_type": "code",
   "execution_count": 30,
   "metadata": {},
   "outputs": [
    {
     "data": {
      "text/plain": [
       "'Jay Lo'"
      ]
     },
     "execution_count": 30,
     "metadata": {},
     "output_type": "execute_result"
    }
   ],
   "source": [
    "woman=Person('Jay','Lo')\n",
    "woman.first_name\n",
    "woman.last_name\n",
    "woman.full_name"
   ]
  },
  {
   "cell_type": "markdown",
   "metadata": {},
   "source": [
    "https://tproger.ru/translations/demystifying-decorators-in-python/"
   ]
  },
  {
   "cell_type": "markdown",
   "metadata": {},
   "source": [
    "-----------------------"
   ]
  },
  {
   "cell_type": "markdown",
   "metadata": {},
   "source": [
    "**Пример 2:** [вот отсюда (модифицированный)](https://pythonworld.ru/osnovy/dekoratory.html)"
   ]
  },
  {
   "cell_type": "code",
   "execution_count": 46,
   "metadata": {},
   "outputs": [],
   "source": [
    "\n",
    "def method_friendly_decorator(method_to_decorate): #Внешний декоратор\n",
    "     def onemore_lie(self, somelie): #Внутренний декоратор\n",
    "         print(\"Я совру на {} лет:\".format(somelie))\n",
    "         return method_to_decorate(self, somelie) #возвращает объект No-type!\n",
    "     return onemore_lie #return result of wrapper\n",
    "\n",
    "class Lucy:\n",
    "    def __init__(self,realAge):\n",
    "         self.age = realAge\n",
    "    @method_friendly_decorator\n",
    "    def sayYourAge(self, lie):\n",
    "         print(\"Мне {} лет, а ты бы сколько дал?\".format(self.age - lie))\n",
    "            "
   ]
  },
  {
   "cell_type": "code",
   "execution_count": 47,
   "metadata": {},
   "outputs": [
    {
     "name": "stdout",
     "output_type": "stream",
     "text": [
      "Я совру на 10 лет:\n",
      "Мне 40 лет, а ты бы сколько дал?\n"
     ]
    }
   ],
   "source": [
    "GIRL=Lucy(50)\n",
    "#GIRL.age = 50\n",
    "GIRL.sayYourAge(10)"
   ]
  },
  {
   "cell_type": "markdown",
   "metadata": {},
   "source": [
    "Вообще  показался сносным  этот сайт для декораторов:\n",
    "    https://pythonworld.ru/osnovy/dekoratory.html"
   ]
  },
  {
   "cell_type": "markdown",
   "metadata": {},
   "source": [
    "\n",
    "______________________________________________________________________________________________________\n"
   ]
  },
  {
   "cell_type": "code",
   "execution_count": null,
   "metadata": {},
   "outputs": [],
   "source": []
  }
 ],
 "metadata": {
  "kernelspec": {
   "display_name": "Python 3",
   "language": "python",
   "name": "python3"
  },
  "language_info": {
   "codemirror_mode": {
    "name": "ipython",
    "version": 3
   },
   "file_extension": ".py",
   "mimetype": "text/x-python",
   "name": "python",
   "nbconvert_exporter": "python",
   "pygments_lexer": "ipython3",
   "version": "3.7.4"
  }
 },
 "nbformat": 4,
 "nbformat_minor": 2
}
